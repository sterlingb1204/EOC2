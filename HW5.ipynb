{
 "cells": [
  {
   "cell_type": "markdown",
   "metadata": {},
   "source": [
    "# Homework 5 - Pandas and SQLite (100 Points)\n",
    "\n",
    "This assignment focuses on your ability to solve computational problems in both Pandas and SQLite.\n",
    "\n",
    "## General Instructions:\n",
    "\n",
    "For **Pandas** questions, you may use standard Python and Pandas commands (joining, merging, math, etc.).  Ensure that the answer is printed in the requested format.  (Note: Your solutions will probably require several lines of Python and Pandas DataFrame manipulation.\n",
    "\n",
    "For **SQLite** questions, you should execute a single query, which may include subqueries and CTEs as needed.  Ensure that the answer is printed in the requested format.  You may use either the `cursor` or the `fancyCursor`, defined below."
   ]
  },
  {
   "cell_type": "code",
   "execution_count": 37,
   "metadata": {},
   "outputs": [],
   "source": [
    "### CELL 0 ###\n",
    "# Please enter your names here:\n",
    "# 1.) Sterling Bhollah\n",
    "# 2.) Dan Rahill\n",
    "##############\n",
    "# Note: When submitting your homework, if person #1 submits\n",
    "# the Notebook, then person #2 should also include a note in\n",
    "# Sakai that their homework was submitted under #1's name.\n",
    "# This will help us to make sure that everyone is getting their\n",
    "# grade and comments in a timely manner!\n",
    "# NOTE: If you are using a nickname, please include your real name in parenthesis.\n",
    "# Example: Bubba (Corey) Pennycuff\n",
    "##############"
   ]
  },
  {
   "cell_type": "markdown",
   "metadata": {},
   "source": [
    "The following cell will set up the SQLite database (in the variable `db`, with a table called `data`) and a Pandas DataFrame (in a variable called `data`)."
   ]
  },
  {
   "cell_type": "code",
   "execution_count": 38,
   "metadata": {},
   "outputs": [
    {
     "data": {
      "text/html": [
       "<div>\n",
       "<style scoped>\n",
       "    .dataframe tbody tr th:only-of-type {\n",
       "        vertical-align: middle;\n",
       "    }\n",
       "\n",
       "    .dataframe tbody tr th {\n",
       "        vertical-align: top;\n",
       "    }\n",
       "\n",
       "    .dataframe thead th {\n",
       "        text-align: right;\n",
       "    }\n",
       "</style>\n",
       "<table border=\"1\" class=\"dataframe\">\n",
       "  <thead>\n",
       "    <tr style=\"text-align: right;\">\n",
       "      <th></th>\n",
       "      <th>country</th>\n",
       "      <th>year</th>\n",
       "      <th>pop</th>\n",
       "      <th>continent</th>\n",
       "      <th>lifeExp</th>\n",
       "      <th>gdpPercap</th>\n",
       "    </tr>\n",
       "  </thead>\n",
       "  <tbody>\n",
       "    <tr>\n",
       "      <td>0</td>\n",
       "      <td>Afghanistan</td>\n",
       "      <td>1952</td>\n",
       "      <td>8425333.0</td>\n",
       "      <td>Asia</td>\n",
       "      <td>28.801</td>\n",
       "      <td>779.445314</td>\n",
       "    </tr>\n",
       "    <tr>\n",
       "      <td>1</td>\n",
       "      <td>Afghanistan</td>\n",
       "      <td>1957</td>\n",
       "      <td>9240934.0</td>\n",
       "      <td>Asia</td>\n",
       "      <td>30.332</td>\n",
       "      <td>820.853030</td>\n",
       "    </tr>\n",
       "    <tr>\n",
       "      <td>2</td>\n",
       "      <td>Afghanistan</td>\n",
       "      <td>1962</td>\n",
       "      <td>10267083.0</td>\n",
       "      <td>Asia</td>\n",
       "      <td>31.997</td>\n",
       "      <td>853.100710</td>\n",
       "    </tr>\n",
       "    <tr>\n",
       "      <td>3</td>\n",
       "      <td>Afghanistan</td>\n",
       "      <td>1967</td>\n",
       "      <td>11537966.0</td>\n",
       "      <td>Asia</td>\n",
       "      <td>34.020</td>\n",
       "      <td>836.197138</td>\n",
       "    </tr>\n",
       "    <tr>\n",
       "      <td>4</td>\n",
       "      <td>Afghanistan</td>\n",
       "      <td>1972</td>\n",
       "      <td>13079460.0</td>\n",
       "      <td>Asia</td>\n",
       "      <td>36.088</td>\n",
       "      <td>739.981106</td>\n",
       "    </tr>\n",
       "    <tr>\n",
       "      <td>...</td>\n",
       "      <td>...</td>\n",
       "      <td>...</td>\n",
       "      <td>...</td>\n",
       "      <td>...</td>\n",
       "      <td>...</td>\n",
       "      <td>...</td>\n",
       "    </tr>\n",
       "    <tr>\n",
       "      <td>1699</td>\n",
       "      <td>Zimbabwe</td>\n",
       "      <td>1987</td>\n",
       "      <td>9216418.0</td>\n",
       "      <td>Africa</td>\n",
       "      <td>62.351</td>\n",
       "      <td>706.157306</td>\n",
       "    </tr>\n",
       "    <tr>\n",
       "      <td>1700</td>\n",
       "      <td>Zimbabwe</td>\n",
       "      <td>1992</td>\n",
       "      <td>10704340.0</td>\n",
       "      <td>Africa</td>\n",
       "      <td>60.377</td>\n",
       "      <td>693.420786</td>\n",
       "    </tr>\n",
       "    <tr>\n",
       "      <td>1701</td>\n",
       "      <td>Zimbabwe</td>\n",
       "      <td>1997</td>\n",
       "      <td>11404948.0</td>\n",
       "      <td>Africa</td>\n",
       "      <td>46.809</td>\n",
       "      <td>792.449960</td>\n",
       "    </tr>\n",
       "    <tr>\n",
       "      <td>1702</td>\n",
       "      <td>Zimbabwe</td>\n",
       "      <td>2002</td>\n",
       "      <td>11926563.0</td>\n",
       "      <td>Africa</td>\n",
       "      <td>39.989</td>\n",
       "      <td>672.038623</td>\n",
       "    </tr>\n",
       "    <tr>\n",
       "      <td>1703</td>\n",
       "      <td>Zimbabwe</td>\n",
       "      <td>2007</td>\n",
       "      <td>12311143.0</td>\n",
       "      <td>Africa</td>\n",
       "      <td>43.487</td>\n",
       "      <td>469.709298</td>\n",
       "    </tr>\n",
       "  </tbody>\n",
       "</table>\n",
       "<p>1704 rows × 6 columns</p>\n",
       "</div>"
      ],
      "text/plain": [
       "          country  year         pop continent  lifeExp   gdpPercap\n",
       "0     Afghanistan  1952   8425333.0      Asia   28.801  779.445314\n",
       "1     Afghanistan  1957   9240934.0      Asia   30.332  820.853030\n",
       "2     Afghanistan  1962  10267083.0      Asia   31.997  853.100710\n",
       "3     Afghanistan  1967  11537966.0      Asia   34.020  836.197138\n",
       "4     Afghanistan  1972  13079460.0      Asia   36.088  739.981106\n",
       "...           ...   ...         ...       ...      ...         ...\n",
       "1699     Zimbabwe  1987   9216418.0    Africa   62.351  706.157306\n",
       "1700     Zimbabwe  1992  10704340.0    Africa   60.377  693.420786\n",
       "1701     Zimbabwe  1997  11404948.0    Africa   46.809  792.449960\n",
       "1702     Zimbabwe  2002  11926563.0    Africa   39.989  672.038623\n",
       "1703     Zimbabwe  2007  12311143.0    Africa   43.487  469.709298\n",
       "\n",
       "[1704 rows x 6 columns]"
      ]
     },
     "execution_count": 38,
     "metadata": {},
     "output_type": "execute_result"
    }
   ],
   "source": [
    "import numpy as np\n",
    "import pandas as pd\n",
    "import sqlite3\n",
    "data = pd.read_csv('http://bit.ly/2cLzoxH')\n",
    "\n",
    "db = sqlite3.connect(':memory:')\n",
    "data.to_sql('data', db)\n",
    "cursor = db.cursor()\n",
    "db.row_factory = sqlite3.Row\n",
    "fancyCursor = db.cursor()\n",
    "\n",
    "# Show the contents of the `data` DataFrame.\n",
    "data"
   ]
  },
  {
   "cell_type": "code",
   "execution_count": 39,
   "metadata": {},
   "outputs": [
    {
     "data": {
      "text/plain": [
       "[(0, 'Afghanistan', 1952, 8425333.0, 'Asia', 28.801, 779.4453145),\n",
       " (1, 'Afghanistan', 1957, 9240934.0, 'Asia', 30.331999999999997, 820.8530296),\n",
       " (2, 'Afghanistan', 1962, 10267083.0, 'Asia', 31.997, 853.1007099999999),\n",
       " (3, 'Afghanistan', 1967, 11537966.0, 'Asia', 34.02, 836.1971382),\n",
       " (4, 'Afghanistan', 1972, 13079460.0, 'Asia', 36.088, 739.9811057999999)]"
      ]
     },
     "execution_count": 39,
     "metadata": {},
     "output_type": "execute_result"
    }
   ],
   "source": [
    "# Show the contents of the SQLite `data` table.\n",
    "# default cursor\n",
    "\n",
    "cursor.execute('''\n",
    "    SELECT *\n",
    "    FROM data\n",
    "    LIMIT 5\n",
    "''')\n",
    "\n",
    "cursor.fetchall()"
   ]
  },
  {
   "cell_type": "code",
   "execution_count": 40,
   "metadata": {},
   "outputs": [
    {
     "data": {
      "text/plain": [
       "[{'index': 0,\n",
       "  'country': 'Afghanistan',\n",
       "  'year': 1952,\n",
       "  'pop': 8425333.0,\n",
       "  'continent': 'Asia',\n",
       "  'lifeExp': 28.801,\n",
       "  'gdpPercap': 779.4453145},\n",
       " {'index': 1,\n",
       "  'country': 'Afghanistan',\n",
       "  'year': 1957,\n",
       "  'pop': 9240934.0,\n",
       "  'continent': 'Asia',\n",
       "  'lifeExp': 30.331999999999997,\n",
       "  'gdpPercap': 820.8530296},\n",
       " {'index': 2,\n",
       "  'country': 'Afghanistan',\n",
       "  'year': 1962,\n",
       "  'pop': 10267083.0,\n",
       "  'continent': 'Asia',\n",
       "  'lifeExp': 31.997,\n",
       "  'gdpPercap': 853.1007099999999},\n",
       " {'index': 3,\n",
       "  'country': 'Afghanistan',\n",
       "  'year': 1967,\n",
       "  'pop': 11537966.0,\n",
       "  'continent': 'Asia',\n",
       "  'lifeExp': 34.02,\n",
       "  'gdpPercap': 836.1971382},\n",
       " {'index': 4,\n",
       "  'country': 'Afghanistan',\n",
       "  'year': 1972,\n",
       "  'pop': 13079460.0,\n",
       "  'continent': 'Asia',\n",
       "  'lifeExp': 36.088,\n",
       "  'gdpPercap': 739.9811057999999}]"
      ]
     },
     "execution_count": 40,
     "metadata": {},
     "output_type": "execute_result"
    }
   ],
   "source": [
    "# Show the contents of the SQLite `data` table.\n",
    "# \"fancy\" cursor (using the Row factory)\n",
    "\n",
    "fancyCursor.execute('''\n",
    "    SELECT *\n",
    "    FROM data\n",
    "    LIMIT 5\n",
    "''')\n",
    "\n",
    "[dict(row) for row in fancyCursor.fetchall()]"
   ]
  },
  {
   "cell_type": "markdown",
   "metadata": {},
   "source": [
    "## Example: The Biggest Countries\n",
    "\n",
    "You goal is to list the largest country on each continent, as well as that country's population for the year 2007.\n",
    "\n",
    "Notice how the code provides the correct variable values to be used at the end of the cell."
   ]
  },
  {
   "cell_type": "code",
   "execution_count": 41,
   "metadata": {},
   "outputs": [
    {
     "name": "stdout",
     "output_type": "stream",
     "text": [
      "In Asia, China has a population of 1,318,683,096.\n",
      "In Americas, United States has a population of 301,139,947.\n",
      "In Africa, Nigeria has a population of 135,031,164.\n",
      "In Europe, Germany has a population of 82,400,996.\n",
      "In Oceania, Australia has a population of 20,434,176.\n"
     ]
    }
   ],
   "source": [
    "### CELL X ###\n",
    "# Write your code in this cell.\n",
    "# Do not remove this comment block.  Write your code after this comment block.\n",
    "#\n",
    "# Write you PYTHON solution in this cell.\n",
    "##############\n",
    "\n",
    "\n",
    "# Filter for year 2007, and only pull the 3 columns of interest.\n",
    "populations = data[data[\"year\"] == 2007][[\"country\", \"continent\", \"pop\"]]\n",
    "\n",
    "# Sort by population descending, then group by continent and get the first row from each grouping.\n",
    "groupings = populations.sort_values('pop', ascending = False).groupby('continent').head(1)\n",
    "\n",
    "# Use a list comprehension (with the DataFrame .iterrows() method) to\n",
    "# put the results in the proper format.\n",
    "records = [(row[\"continent\"], row[\"country\"], row[\"pop\"]) for (id, row) in groupings.iterrows()]\n",
    "\n",
    "\n",
    "##############\n",
    "# Do not change the code below this point.\n",
    "##############\n",
    "for (continent, country, population) in records:\n",
    "    print(f\"In {continent}, {country} has a population of {population:,.0f}.\")"
   ]
  },
  {
   "cell_type": "code",
   "execution_count": 42,
   "metadata": {},
   "outputs": [
    {
     "name": "stdout",
     "output_type": "stream",
     "text": [
      "In Asia, China has a population of 1,318,683,096.\n",
      "In Americas, United States has a population of 301,139,947.\n",
      "In Africa, Nigeria has a population of 135,031,164.\n",
      "In Europe, Germany has a population of 82,400,996.\n",
      "In Oceania, Australia has a population of 20,434,176.\n"
     ]
    }
   ],
   "source": [
    "### CELL X ###\n",
    "# Write your code in this cell.\n",
    "# Do not remove this comment block.  Write your code after this comment block.\n",
    "#\n",
    "# Write you SQLite solution in this cell.\n",
    "##############\n",
    "\n",
    "\n",
    "fancyCursor.execute(\"\"\"\n",
    "    SELECT d.continent, d.country, d.pop\n",
    "    FROM data d\n",
    "    INNER JOIN (\n",
    "      SELECT continent, MAX(pop) AS maxPop\n",
    "      FROM data\n",
    "      WHERE year = 2007\n",
    "      GROUP BY continent\n",
    "    ) m\n",
    "      ON d.continent = m.continent AND d.pop = m.maxPop\n",
    "    ORDER BY pop DESC \"\"\")\n",
    "\n",
    "records = [(row[\"continent\"], row[\"country\"], row[\"pop\"]) for row in fancyCursor.fetchall()]\n",
    "\n",
    "\n",
    "##############\n",
    "# Do not change the code below this point.\n",
    "##############\n",
    "for (continent, country, population) in records:\n",
    "    print(f\"In {continent}, {country} has a population of {population:,.0f}.\")"
   ]
  },
  {
   "cell_type": "markdown",
   "metadata": {},
   "source": [
    "## Question 1: Living conditions worsen.  (20 Points)\n",
    "\n",
    "Which countries have had a decrease in their life expectancy when comparing 1952 against 2007?\n",
    "\n",
    "`records` will contain a list of country names."
   ]
  },
  {
   "cell_type": "code",
   "execution_count": 43,
   "metadata": {},
   "outputs": [
    {
     "name": "stdout",
     "output_type": "stream",
     "text": [
      "The countries whose life expectancy has decreased since 1952 are: ['Swaziland', 'Zimbabwe'].\n"
     ]
    }
   ],
   "source": [
    "### CELL 1 ###\n",
    "# Write your code in this cell.\n",
    "# Do not remove this comment block.  Write your code after this comment block.\n",
    "#\n",
    "# Write you PYTHON solution in this cell.\n",
    "##############\n",
    "\n",
    "\n",
    "exp1952 = data[data[\"year\"] == 1952][[\"country\", \"lifeExp\"]]\n",
    "exp2007 = data[data[\"year\"] == 2007][[\"country\", \"lifeExp\"]]\n",
    "exp1952 = exp1952.sort_values('country', ascending = True).set_index('country')\n",
    "exp2007 = exp2007.sort_values('country', ascending = True).set_index('country')\n",
    "\n",
    "records = exp1952 > exp2007\n",
    "records = records[records['lifeExp']]\n",
    "records = [*records.index.values]\n",
    "\n",
    "##############\n",
    "# Do not change the code below this point.\n",
    "##############\n",
    "print(f\"The countries whose life expectancy has decreased since 1952 are: {records}.\")"
   ]
  },
  {
   "cell_type": "code",
   "execution_count": 44,
   "metadata": {},
   "outputs": [
    {
     "name": "stdout",
     "output_type": "stream",
     "text": [
      "The countries whose life expectancy has decreased since 1952 are: ['Swaziland', 'Zimbabwe'].\n"
     ]
    }
   ],
   "source": [
    "### CELL 2 ###\n",
    "# Write your code in this cell.\n",
    "# Do not remove this comment block.  Write your code after this comment block.\n",
    "#\n",
    "# Write you SQLite solution in this cell.\n",
    "##############\n",
    "\n",
    "fancyCursor.execute(\"\"\"\n",
    "    SELECT d.country, d.lifeExp\n",
    "    FROM data d\n",
    "    Left JOIN (\n",
    "      SELECT m.lifeExp, m.country\n",
    "      FROM data m\n",
    "      WHERE year = 1952) m\n",
    "    ON d.country = m.country\n",
    "    WHERE year = 2007 AND (m.lifeEXP - d.lifeExp > 0)\n",
    "    \"\"\")\n",
    "\n",
    "records = []\n",
    "\n",
    "for row in fancyCursor.fetchall():\n",
    "    records.append(row[0])\n",
    "\n",
    "##############\n",
    "# Do not change the code below this point.\n",
    "##############\n",
    "print(f\"The countries whose life expectancy has decreased since 1952 are: {records}.\")"
   ]
  },
  {
   "cell_type": "markdown",
   "metadata": {},
   "source": [
    "## Question 2: Where are they now? (20 Points)\n",
    "\n",
    "As of the new millenium (or, 2002, the closest year in the dataset), how many countries did each continent comprise?\n",
    "\n",
    "`records` should be a list of tuples in the form of (`continent`, `count`)."
   ]
  },
  {
   "cell_type": "code",
   "execution_count": 45,
   "metadata": {},
   "outputs": [
    {
     "name": "stdout",
     "output_type": "stream",
     "text": [
      "Africa has 52 countries.\n",
      "Americas has 25 countries.\n",
      "Asia has 33 countries.\n",
      "Europe has 30 countries.\n",
      "Oceania has 2 countries.\n"
     ]
    }
   ],
   "source": [
    "### CELL 3 ###\n",
    "# Write your code in this cell.\n",
    "# Do not remove this comment block.  Write your code after this comment block.\n",
    "#\n",
    "# Write you PYTHON solution in this cell.\n",
    "##############\n",
    "\n",
    "df = data[data[\"year\"] == 2002][[\"continent\",\"country\"]]\n",
    "\n",
    "conts = df.groupby(\"continent\")\n",
    "records = []\n",
    "i = \"\"\n",
    "for continent, country in conts:\n",
    "    i = (continent, len(conts.get_group(continent)))\n",
    "    records.append(i)\n",
    "\n",
    "##############\n",
    "# Do not change the code below this point.\n",
    "##############\n",
    "for (continent, count) in records:\n",
    "    print(f\"{continent} has {count} countries.\")"
   ]
  },
  {
   "cell_type": "code",
   "execution_count": 46,
   "metadata": {
    "scrolled": true
   },
   "outputs": [
    {
     "name": "stdout",
     "output_type": "stream",
     "text": [
      "Africa has 52 countries.\n",
      "Americas has 25 countries.\n",
      "Asia has 33 countries.\n",
      "Europe has 30 countries.\n",
      "Oceania has 2 countries.\n"
     ]
    }
   ],
   "source": [
    "### CELL 4 ###\n",
    "# Write your code in this cell.\n",
    "# Do not remove this comment block.  Write your code after this comment block.\n",
    "#\n",
    "# Write you SQLite solution in this cell.\n",
    "##############\n",
    "\n",
    "\n",
    "fancyCursor.execute('''\n",
    "SELECT d.continent, COUNT(country) AS count\n",
    "FROM data d\n",
    "WHERE d.year = 2002\n",
    "GROUP BY continent\n",
    "''')\n",
    "\n",
    "records = []\n",
    "for row in fancyCursor.fetchall():\n",
    "    records.append((row[0], row[1]))\n",
    "\n",
    "\n",
    "##############\n",
    "# Do not change the code below this point.\n",
    "##############\n",
    "for (continent, count) in records:\n",
    "    print(f\"{continent} has {count} countries.\")"
   ]
  },
  {
   "cell_type": "markdown",
   "metadata": {},
   "source": [
    "## Question 3: Best GDP year of the lowest GDP Country.\n",
    "\n",
    "Find the country with the lowest GDP in the dataset, and then report what their highest GDP has ever been, and what year that was.\n",
    "\n",
    "`record` is a dictionary (or similar) container with keys \"country\", \"gdpPercap\" and \"year\"."
   ]
  },
  {
   "cell_type": "code",
   "execution_count": 61,
   "metadata": {},
   "outputs": [
    {
     "name": "stdout",
     "output_type": "stream",
     "text": [
      "Congo Dem. Rep.'s highest GDP Per Capita was 905.00 in 1957.\n"
     ]
    }
   ],
   "source": [
    "### CELL 5 ###\n",
    "# Write your code in this cell.\n",
    "# Do not remove this comment block.  Write your code after this comment block.\n",
    "#\n",
    "# Write you PYTHON solution in this cell.\n",
    "##############\n",
    "\n",
    "df = data[[\"country\",\"gdpPercap\", \"year\"]]\n",
    "low = df.sort_values('gdpPercap', ascending = False).set_index(\"country\").tail(1)\n",
    "congo = str(*low.index.values)\n",
    "\n",
    "df = data[data[\"country\"] == congo][[\"country\",\"gdpPercap\", \"year\"]]\n",
    "high = df.sort_values(\"gdpPercap\", ascending = False).head(1)\n",
    "highGdp = int(high[\"gdpPercap\"].values)\n",
    "highYear = str(*high[\"year\"].values)\n",
    "\n",
    "record = {'country': congo, 'gdpPercap': highGdp,'year': highYear}\n",
    "\n",
    "##############\n",
    "# Do not change the code below this point.\n",
    "##############\n",
    "print(f\"{record['country']}'s highest GDP Per Capita was {record['gdpPercap']:,.2f} in {record['year']}.\")"
   ]
  },
  {
   "cell_type": "code",
   "execution_count": 63,
   "metadata": {},
   "outputs": [
    {
     "name": "stdout",
     "output_type": "stream",
     "text": [
      "Congo Dem. Rep.'s highest GDP Per Capita was 905.86 in 1957.\n"
     ]
    }
   ],
   "source": [
    "### CELL 6 ###\n",
    "# Write your code in this cell.\n",
    "# Do not remove this comment block.  Write your code after this comment block.\n",
    "#\n",
    "# Write you SQLite solution in this cell.\n",
    "##############\n",
    "\n",
    "\n",
    "fancyCursor.execute('''\n",
    "\n",
    "SELECT country, gdpPercap, year\n",
    "FROM data\n",
    "WHERE country = (\n",
    "    SELECT country\n",
    "    FROM data\n",
    "    WHERE gdpPercap = (\n",
    "        SELECT min(gdpPercap)\n",
    "        FROM data)\n",
    ")\n",
    "ORDER BY gdpPercap DESC\n",
    "LIMIT 1;\n",
    "\n",
    "''')\n",
    "\n",
    "\n",
    "record = {'country':row[0], 'gdpPercap':row[1], 'year':row[2]}\n",
    "\n",
    "\n",
    "##############\n",
    "# Do not change the code below this point.\n",
    "##############\n",
    "print(f\"{record['country']}'s highest GDP Per Capita was {record['gdpPercap']:,.2f} in {record['year']}.\")"
   ]
  },
  {
   "cell_type": "markdown",
   "metadata": {},
   "source": [
    "## Average Live Expectancy\n",
    "\n",
    "What is the average life expectancy per continent across all years in the dataset?  Order the results by average life expectancy, descending.\n",
    "\n",
    "`records` should be a list of tuples in the form (`continent`, `avgLifeExp`)."
   ]
  },
  {
   "cell_type": "code",
   "execution_count": 49,
   "metadata": {},
   "outputs": [
    {
     "name": "stdout",
     "output_type": "stream",
     "text": [
      "Africa has an average life expectancy of 48.87.\n",
      "Americas has an average life expectancy of 64.66.\n",
      "Asia has an average life expectancy of 60.06.\n",
      "Europe has an average life expectancy of 71.90.\n",
      "Oceania has an average life expectancy of 74.33.\n"
     ]
    }
   ],
   "source": [
    "### CELL 7 ###\n",
    "# Write your code in this cell.\n",
    "# Do not remove this comment block.  Write your code after this comment block.\n",
    "#\n",
    "# Write you PYTHON solution in this cell.\n",
    "##############\n",
    "\n",
    "records = []\n",
    "\n",
    "df = data[['continent','lifeExp']]\n",
    "conts = df.groupby('continent')\n",
    "\n",
    "for cont, lifeExp in conts:\n",
    "    i = [cont, *conts.get_group(cont).mean()]\n",
    "    records.append(i)\n",
    "\n",
    "\n",
    "##############\n",
    "# Do not change the code below this point.\n",
    "##############\n",
    "for (continent, avgLifeExp) in records:\n",
    "    print(f\"{continent} has an average life expectancy of {avgLifeExp:,.2f}.\")"
   ]
  },
  {
   "cell_type": "code",
   "execution_count": 50,
   "metadata": {},
   "outputs": [
    {
     "name": "stdout",
     "output_type": "stream",
     "text": [
      "Africa has an average life expectancy of 48.87.\n",
      "Americas has an average life expectancy of 64.66.\n",
      "Asia has an average life expectancy of 60.06.\n",
      "Europe has an average life expectancy of 71.90.\n",
      "Oceania has an average life expectancy of 74.33.\n"
     ]
    }
   ],
   "source": [
    "### CELL 8 ###\n",
    "# Write your code in this cell.\n",
    "# Do not remove this comment block.  Write your code after this comment block.\n",
    "#\n",
    "# Write you SQLite solution in this cell.\n",
    "##############\n",
    "\n",
    "fancyCursor.execute(\"\"\"\n",
    "\n",
    "    SELECT d.continent, AVG(d.lifeExp) as avg\n",
    "    FROM data d\n",
    "    GROUP BY d.continent\n",
    "\"\"\")\n",
    "\n",
    "records = []\n",
    "\n",
    "for row in fancyCursor.fetchall():\n",
    "    records.append([row[0], row[1]])\n",
    "\n",
    "\n",
    "\n",
    "##############\n",
    "# Do not change the code below this point.\n",
    "##############\n",
    "for (continent, avgLifeExp) in records:\n",
    "    print(f\"{continent} has an average life expectancy of {avgLifeExp:,.2f}.\")"
   ]
  },
  {
   "cell_type": "markdown",
   "metadata": {},
   "source": [
    "## Question 5: Staying Alive... (20 Points)\n",
    "\n",
    "Which Country has had the largest percentage increase of life expectancy (`lifeExp`) from 1952 to 2007?\n",
    "\n",
    "To calculate the percentage increase, consider two numbers, `A` and `B`.  The percentage increase from `A` to `B` is `(B - A) / A * 100`.\n",
    "\n",
    "Your code should provide values for the variables `country` and `percent`."
   ]
  },
  {
   "cell_type": "code",
   "execution_count": 51,
   "metadata": {},
   "outputs": [
    {
     "name": "stdout",
     "output_type": "stream",
     "text": [
      "Oman had the largest percent increase in life expectancy, 101.3%\n"
     ]
    }
   ],
   "source": [
    "### CELL 9 ###\n",
    "# Write your code in this cell.\n",
    "# Do not remove this comment block.  Write your code after this comment block.\n",
    "#\n",
    "# Write you PYTHON solution in this cell.\n",
    "##############\n",
    "\n",
    "exp1952 = data[data[\"year\"] == 1952][[\"country\", \"lifeExp\"]]\n",
    "exp2007 = data[data[\"year\"] == 2007][[\"country\", \"lifeExp\"]]\n",
    "exp1952 = exp1952.sort_values('country', ascending = True).set_index('country')\n",
    "exp2007 = exp2007.sort_values('country', ascending = True).set_index('country')\n",
    "\n",
    "records = ((exp2007 - exp1952)/(exp1952))*100\n",
    "\n",
    "records = records.sort_values('lifeExp', ascending = False).head(1)\n",
    "\n",
    "\n",
    "country = str(*records.index.values)\n",
    "percent = float(*records.values)\n",
    "\n",
    "\n",
    "##############\n",
    "# Do not change the code below this point.\n",
    "##############\n",
    "print(f\"{country} had the largest percent increase in life expectancy, {percent:.1f}%\")"
   ]
  },
  {
   "cell_type": "code",
   "execution_count": 52,
   "metadata": {},
   "outputs": [
    {
     "name": "stdout",
     "output_type": "stream",
     "text": [
      "Oman had the largest percent increase in life expectancy, 101.3%\n"
     ]
    }
   ],
   "source": [
    "### CELL 10 ###\n",
    "# Write your code in this cell.\n",
    "# Do not remove this comment block.  Write your code after this comment block.\n",
    "#\n",
    "# Write you SQLite solution in this cell.\n",
    "##############\n",
    "\n",
    "\n",
    "fancyCursor.execute('''\n",
    "SELECT d.country,(((d.lifeEXP - m.lifeExp)/ m.lifeExp)*100) AS percent \n",
    "FROM data d\n",
    "INNER JOIN(\n",
    "    SELECT m.country, m.lifeExp\n",
    "    FROM data m\n",
    "    WHERE year = 1952)m\n",
    "    ON d.country = m.country\n",
    "WHERE year = 2007\n",
    "ORDER BY percent DESC\n",
    "''')\n",
    "\n",
    "\n",
    "row = fancyCursor.fetchone()\n",
    "result = {'country': row[0], 'percent': row[1]}\n",
    "\n",
    "##############\n",
    "# Do not change the code below this point.\n",
    "##############\n",
    "print(f\"{result['country']} had the largest percent increase in life expectancy, {result['percent']:.1f}%\")"
   ]
  },
  {
   "cell_type": "code",
   "execution_count": null,
   "metadata": {},
   "outputs": [],
   "source": []
  }
 ],
 "metadata": {
  "kernelspec": {
   "display_name": "Python 3",
   "language": "python",
   "name": "python3"
  },
  "language_info": {
   "codemirror_mode": {
    "name": "ipython",
    "version": 3
   },
   "file_extension": ".py",
   "mimetype": "text/x-python",
   "name": "python",
   "nbconvert_exporter": "python",
   "pygments_lexer": "ipython3",
   "version": "3.7.4"
  }
 },
 "nbformat": 4,
 "nbformat_minor": 4
}
